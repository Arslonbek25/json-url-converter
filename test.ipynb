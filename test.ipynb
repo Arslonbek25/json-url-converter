{
 "cells": [
  {
   "cell_type": "markdown",
   "metadata": {},
   "source": [
    "### JSON encoder/decoder"
   ]
  },
  {
   "cell_type": "code",
   "execution_count": 59,
   "metadata": {},
   "outputs": [],
   "source": [
    "import json\n",
    "import os\n",
    "\n",
    "from IPython.display import display\n",
    "\n",
    "from jsonurl import curl_to_json, decode_dict, json_to_url_encoded\n",
    "encoded_dir = \"encoded\"\n",
    "decoded_dir = \"decoded\"\n",
    "encoded_files = os.listdir(encoded_dir)\n",
    "decoded_files = os.listdir(decoded_dir)"
   ]
  },
  {
   "cell_type": "markdown",
   "metadata": {},
   "source": [
    "#### JSON decoder"
   ]
  },
  {
   "cell_type": "code",
   "execution_count": 60,
   "metadata": {},
   "outputs": [],
   "source": [
    "for file in encoded_files:\n",
    "    with open(f\"{encoded_dir}/{file}\", \"r\") as f:\n",
    "        curl_cmd = f.read()\n",
    "        if \"{\" in curl_cmd:\n",
    "            curl_map = json.loads(curl_cmd)\n",
    "            data = decode_dict(curl_map)\n",
    "        else:\n",
    "            data = curl_to_json(curl_cmd)\n",
    "        if isinstance(data, dict):\n",
    "            data = json.dumps(data, indent=4, ensure_ascii=True)\n",
    "        fn = os.path.splitext(file)[0]\n",
    "        with open(f\"{decoded_dir}/{fn}.json\", \"w\") as f:\n",
    "            f.write(data)"
   ]
  },
  {
   "cell_type": "markdown",
   "metadata": {},
   "source": [
    "#### JSON encoder"
   ]
  },
  {
   "cell_type": "code",
   "execution_count": 55,
   "metadata": {},
   "outputs": [],
   "source": [
    "for file in decoded_files:\n",
    "    with open(f\"{decoded_dir}/{file}\", \"r\") as f:\n",
    "        curl_cmd = f.read()\n",
    "        curl_encoded = json_to_url_encoded(curl_cmd)\n",
    "        fn = os.path.splitext(file)[0]\n",
    "        with open(f\"{encoded_dir}/{fn}.txt\", \"w\") as f:\n",
    "            f.write(curl_encoded)"
   ]
  }
 ],
 "metadata": {
  "kernelspec": {
   "display_name": "base",
   "language": "python",
   "name": "python3"
  },
  "language_info": {
   "codemirror_mode": {
    "name": "ipython",
    "version": 3
   },
   "file_extension": ".py",
   "mimetype": "text/x-python",
   "name": "python",
   "nbconvert_exporter": "python",
   "pygments_lexer": "ipython3",
   "version": "3.11.1"
  },
  "orig_nbformat": 4
 },
 "nbformat": 4,
 "nbformat_minor": 2
}
