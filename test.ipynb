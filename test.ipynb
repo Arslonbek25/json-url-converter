{
 "cells": [
  {
   "cell_type": "markdown",
   "metadata": {},
   "source": [
    "#### Setup"
   ]
  },
  {
   "cell_type": "code",
   "execution_count": 10,
   "metadata": {},
   "outputs": [],
   "source": [
    "import json\n",
    "import os\n",
    "\n",
    "from jsonurl import decode_dict, decode_str, encode\n",
    "\n",
    "e_dir = \"encoded\"\n",
    "d_dir = \"decoded\"\n",
    "os.makedirs(e_dir, exist_ok=True)\n",
    "os.makedirs(d_dir, exist_ok=True)\n",
    "e_files = os.listdir(e_dir)\n",
    "d_files = os.listdir(d_dir)\n",
    "\n",
    "\n",
    "def read_file(path):\n",
    "    with open(path, \"r\") as file:\n",
    "        return file.read()\n",
    "\n",
    "\n",
    "def write_file(path, content):\n",
    "    with open(path, \"w\") as file:\n",
    "        file.write(content)"
   ]
  },
  {
   "cell_type": "markdown",
   "metadata": {},
   "source": [
    "#### JSON decoder"
   ]
  },
  {
   "cell_type": "code",
   "execution_count": 11,
   "metadata": {},
   "outputs": [],
   "source": [
    "for file in e_files:\n",
    "    data = read_file(os.path.join(e_dir, file))\n",
    "    if data.startswith(\"{\") and \":\" in data:\n",
    "        data_dict = json.loads(data)\n",
    "        data = decode_dict(data_dict)\n",
    "    else:\n",
    "        data = decode_str(data)\n",
    "\n",
    "    if isinstance(data, dict):\n",
    "        data = json.dumps(data, indent=4)\n",
    "\n",
    "    ext = \"json\" if data.startswith(\"{\") and data.endswith(\"}\") else \"txt\"\n",
    "    fn = os.path.splitext(file)[0]\n",
    "    write_file(os.path.join(d_dir, f\"{fn}.{ext}\"), data)"
   ]
  },
  {
   "cell_type": "markdown",
   "metadata": {},
   "source": [
    "#### JSON encoder"
   ]
  },
  {
   "cell_type": "code",
   "execution_count": 12,
   "metadata": {},
   "outputs": [],
   "source": [
    "for file in d_files:\n",
    "    data = read_file(os.path.join(d_dir, file))\n",
    "    data = encode(data)\n",
    "    fn = os.path.splitext(file)[0]\n",
    "    write_file(os.path.join(e_dir, f\"{fn}.txt\"), data)"
   ]
  }
 ],
 "metadata": {
  "kernelspec": {
   "display_name": "base",
   "language": "python",
   "name": "python3"
  },
  "language_info": {
   "codemirror_mode": {
    "name": "ipython",
    "version": 3
   },
   "file_extension": ".py",
   "mimetype": "text/x-python",
   "name": "python",
   "nbconvert_exporter": "python",
   "pygments_lexer": "ipython3",
   "version": "3.11.1"
  },
  "orig_nbformat": 4
 },
 "nbformat": 4,
 "nbformat_minor": 2
}
